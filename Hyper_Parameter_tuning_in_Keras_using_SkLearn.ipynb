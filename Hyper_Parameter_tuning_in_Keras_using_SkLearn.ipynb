{
  "nbformat": 4,
  "nbformat_minor": 0,
  "metadata": {
    "colab": {
      "name": "Hyper_Parameter_tuning_in_Keras_using_SkLearn.ipynb",
      "provenance": [],
      "collapsed_sections": [],
      "include_colab_link": true
    },
    "kernelspec": {
      "name": "python3",
      "display_name": "Python 3"
    }
  },
  "cells": [
    {
      "cell_type": "markdown",
      "metadata": {
        "id": "view-in-github",
        "colab_type": "text"
      },
      "source": [
        "<a href=\"https://colab.research.google.com/github/kiazydjan/Hyper_Parameter_Tuning_Keras_Sklearn/blob/master/Hyper_Parameter_tuning_in_Keras_using_SkLearn.ipynb\" target=\"_parent\"><img src=\"https://colab.research.google.com/assets/colab-badge.svg\" alt=\"Open In Colab\"/></a>"
      ]
    },
    {
      "cell_type": "markdown",
      "metadata": {
        "id": "7FZYGSL-ojBZ",
        "colab_type": "text"
      },
      "source": [
        "## Hyper Parameter tuning in Keras using Scikit Learn\n",
        "\n"
      ]
    },
    {
      "cell_type": "markdown",
      "metadata": {
        "id": "ZV62mFJsWV9O",
        "colab_type": "text"
      },
      "source": [
        "Keras is a neural-network library for the Python programming language capable of running with many deep learning tools such as Theano, R or TensorFlow and allowing fast iteration for experimenting or prototyping neural-networks.\n",
        "Whether you are prototyping a neural network model in Keras to get a feel for how it will perform the required task, or fine tuning a model you have build and tested there are many parameters to consider for your model. These model parameters are referred to as hyper parameters. The activation function of used in your layers is an example of a hyper parameter. The number of layers in the model, number of neurons per layer or the size of the kernel in a CNN can all be considered hyper parameters.<br>\n",
        "There is no magic formula to choose the right parameters and different problems will require different approaches. Changing each parameter of your model may affect its performance, and only experimentation will determine which combination works best for your model and data. <br>\n",
        "In this article we will look at steps required to perform hyper parameter tuning using another machine learning library, Scikit-Learn, to optimize a Keras model. We will build a simple neural network and look for the best optimizer, batch size and the activation using the RandomizedSearchCV object from the Scikit-Learn library."
      ]
    },
    {
      "cell_type": "markdown",
      "metadata": {
        "id": "-aaJOJOwWfiH",
        "colab_type": "text"
      },
      "source": [
        "###Before we begin\n",
        "The libraries we will be using in our example are TensorFlow, which includes Keras, and Scikit Learn.<br>\n",
        "We will also use numpy and matplotlib libraries for some support functions."
      ]
    },
    {
      "cell_type": "code",
      "metadata": {
        "id": "zyTHNJx6VAA-",
        "colab_type": "code",
        "colab": {}
      },
      "source": [
        "from tensorflow.keras import Sequential\n",
        "from tensorflow.keras.layers import Dense,Flatten\n",
        "from tensorflow.keras.datasets import mnist\n",
        "from tensorflow.keras.wrappers.scikit_learn import KerasClassifier\n",
        "from sklearn.model_selection import RandomizedSearchCV"
      ],
      "execution_count": 0,
      "outputs": []
    },
    {
      "cell_type": "markdown",
      "metadata": {
        "id": "nUUqW43EbkRg",
        "colab_type": "text"
      },
      "source": [
        "We will also use numpy and matplotlib libraries for some support functions:"
      ]
    },
    {
      "cell_type": "code",
      "metadata": {
        "id": "1NRlS-lzokkC",
        "colab_type": "code",
        "colab": {}
      },
      "source": [
        "import numpy as np\n",
        "import matplotlib.pyplot as plt"
      ],
      "execution_count": 0,
      "outputs": []
    },
    {
      "cell_type": "code",
      "metadata": {
        "id": "-qdZCq2qVBBi",
        "colab_type": "code",
        "colab": {}
      },
      "source": [
        "from IPython.core.interactiveshell import InteractiveShell\n",
        "InteractiveShell.ast_node_interactivity = \"all\""
      ],
      "execution_count": 0,
      "outputs": []
    },
    {
      "cell_type": "markdown",
      "metadata": {
        "id": "6qRfqlanXtc7",
        "colab_type": "text"
      },
      "source": [
        "###Prepare data\n",
        "To start, lets get a dataset to work with, format it and build our model. Here, we are loading the dataset with a train/test split, normalizing it and printing its shape to ensure we use correct input for the model:\n",
        "\n"
      ]
    },
    {
      "cell_type": "code",
      "metadata": {
        "id": "689CvKGTowaS",
        "colab_type": "code",
        "outputId": "79e30993-3538-495f-a38f-964e2e8a970b",
        "colab": {
          "base_uri": "https://localhost:8080/",
          "height": 54
        }
      },
      "source": [
        "(X_train, y_trn), (X_test, y_tst) = mnist.load_data()\n",
        "X_trn = X_train[..., np.newaxis].astype(np.float32) / 255.\n",
        "X_tst = X_test[..., np.newaxis].astype(np.float32) / 255.\n",
        "print(X_train.shape,y_trn.shape)\n",
        "print(X_test.shape,y_tst.shape)"
      ],
      "execution_count": 0,
      "outputs": [
        {
          "output_type": "stream",
          "text": [
            "(60000, 28, 28) (60000,)\n",
            "(10000, 28, 28) (10000,)\n"
          ],
          "name": "stdout"
        }
      ]
    },
    {
      "cell_type": "markdown",
      "metadata": {
        "id": "YndWEXgeYupo",
        "colab_type": "text"
      },
      "source": [
        "The mnist dataset is a set of 28x28 pixel pictures of hand-written numbers.<br>\n",
        "Our data looks like this:"
      ]
    },
    {
      "cell_type": "code",
      "metadata": {
        "id": "7PUFieDStoTq",
        "colab_type": "code",
        "outputId": "d0fd70c7-bfd8-4c17-b085-223ffc92a054",
        "colab": {
          "base_uri": "https://localhost:8080/",
          "height": 217
        }
      },
      "source": [
        "def preview(data,result):\n",
        "  \"\"\"Shows 12 elements of picture dataset\"\"\"\n",
        "  fig = plt.figure()\n",
        "  for i in range(12):\n",
        "    plt.subplot(2,6,i+1)\n",
        "    plt.imshow(data[i], interpolation='none')\n",
        "    plt.title(\"label:{}\".format(result[i]))\n",
        "    plt.xticks([])\n",
        "    plt.yticks([])\n",
        "\n",
        "preview(X_train[12:],y_trn[12:])"
      ],
      "execution_count": 0,
      "outputs": [
        {
          "output_type": "display_data",
          "data": {
            "image/png": "[encoded data removed]",
            "text/plain": [
              "<Figure size 432x288 with 12 Axes>"
            ]
          },
          "metadata": {
            "tags": []
          }
        }
      ]
    },
    {
      "cell_type": "markdown",
      "metadata": {
        "id": "yMpMbfqPaEUq",
        "colab_type": "text"
      },
      "source": [
        "###Build Model\n",
        "In order to tune the parameters of our Keras model using scikit-learn we need to be able to rebuild our model using different parameters. To do this, we create a function to build the model based on our hyper parameters:\n"
      ]
    },
    {
      "cell_type": "code",
      "metadata": {
        "id": "VgRJFklRwpvB",
        "colab_type": "code",
        "cellView": "code",
        "colab": {}
      },
      "source": [
        "def build_model(var_activation='relu',var_optimizer='adam'):\n",
        "  \"\"\" Builds and compiles Keras model using arguments for activation function and optimizer.\"\"\"\n",
        "  model = Sequential()\n",
        "  model.add(Flatten(input_shape=[28, 28, 1]))\n",
        "  model.add(Dense(64,activation=var_activation))\n",
        "  model.add(Dense(32,activation=var_activation))\n",
        "  model.add(Dense(16,activation=var_activation))\n",
        "  model.add(Dense(10,activation='softmax'))\n",
        "  model.compile(loss=\"sparse_categorical_crossentropy\",\n",
        "                optimizer=var_optimizer,\n",
        "                metrics=[\"accuracy\"])\n",
        "  return model"
      ],
      "execution_count": 0,
      "outputs": []
    },
    {
      "cell_type": "markdown",
      "metadata": {
        "id": "a-b_XO-ecNg5",
        "colab_type": "text"
      },
      "source": [
        "This is how our model looks with default parameters:"
      ]
    },
    {
      "cell_type": "code",
      "metadata": {
        "id": "WZHg0UiPceY6",
        "colab_type": "code",
        "outputId": "4a33785d-55ca-401c-fe99-7ab4e5e3e8b7",
        "colab": {
          "base_uri": "https://localhost:8080/",
          "height": 345
        }
      },
      "source": [
        "model_default = build_model()\n",
        "model_default.summary()"
      ],
      "execution_count": 0,
      "outputs": [
        {
          "output_type": "stream",
          "text": [
            "Model: \"sequential_3\"\n",
            "_________________________________________________________________\n",
            "Layer (type)                 Output Shape              Param #   \n",
            "=================================================================\n",
            "flatten_3 (Flatten)          (None, 784)               0         \n",
            "_________________________________________________________________\n",
            "dense_12 (Dense)             (None, 64)                50240     \n",
            "_________________________________________________________________\n",
            "dense_13 (Dense)             (None, 32)                2080      \n",
            "_________________________________________________________________\n",
            "dense_14 (Dense)             (None, 16)                528       \n",
            "_________________________________________________________________\n",
            "dense_15 (Dense)             (None, 10)                170       \n",
            "=================================================================\n",
            "Total params: 53,018\n",
            "Trainable params: 53,018\n",
            "Non-trainable params: 0\n",
            "_________________________________________________________________\n"
          ],
          "name": "stdout"
        }
      ]
    },
    {
      "cell_type": "markdown",
      "metadata": {
        "id": "-pEzRWN2d9zd",
        "colab_type": "text"
      },
      "source": [
        "###Set variables\n",
        "We want to test model’s performance using Adam algorithm and Stochastic Gradient Descent as well as test different activation functions for the layers and batch sizes for training the model. Let’s create lists of our parameters and store them as a dictionary. The keys in the dictionary are the names of variables that are used in our model:"
      ]
    },
    {
      "cell_type": "code",
      "metadata": {
        "id": "0OcOPupx4HQE",
        "colab_type": "code",
        "outputId": "fbe29250-ebcf-4212-abad-bb6c88cb7805",
        "colab": {
          "base_uri": "https://localhost:8080/",
          "height": 35
        }
      },
      "source": [
        "_activations=['tanh','relu','selu']\n",
        "_optimizers=['sgd','adam']\n",
        "_batch_size=[16,32,64]\n",
        "params=dict(var_activation=_activations,var_optimizer=_optimizers,batch_size=_batch_size)\n",
        "print(params)"
      ],
      "execution_count": 0,
      "outputs": [
        {
          "output_type": "stream",
          "text": [
            "{'var_activation': ['tanh', 'relu', 'selu'], 'var_optimizer': ['sgd', 'adam'], 'batch_size': [16, 32, 64]}\n"
          ],
          "name": "stdout"
        }
      ]
    },
    {
      "cell_type": "markdown",
      "metadata": {
        "id": "H6khFqiEeDSl",
        "colab_type": "text"
      },
      "source": [
        "Note that ‘batch_size’ is not a variable in the build_model function, but rather the variable that would be used later in the .fit() call to train the model we create."
      ]
    },
    {
      "cell_type": "code",
      "metadata": {
        "id": "RDaRGvnUfvtT",
        "colab_type": "code",
        "colab": {}
      },
      "source": [
        "#model_default.fit(X_trn,y_trn,batch_size=16,epochs=1)"
      ],
      "execution_count": 0,
      "outputs": []
    },
    {
      "cell_type": "markdown",
      "metadata": {
        "id": "EiRL1M6PgGwM",
        "colab_type": "text"
      },
      "source": [
        "###Create a scikit learn estimator from the Keras model\n",
        "Now that we have the data, the function to build our models and the parameters we want to test, we can use the sklearn library to test different models based on our function and hyper parameters. We can use the GridSearchCV or the RandomizedSearchCV objects from the sklearn.model_selection module to iterate through different combinations of our hyper parameters and output the model with the best score. The GridSearchCV object will iterate through all possible combinations of hyper parameters, while the RandomizedSearchCV object will randomly sample a number of possible combinations to train the model. While using randomized search may not always provide best possible model, it is much faster and less resource intensive since not all combinations of parameters are considered. This makes randomized model search very useful for testing and prototyping.\n",
        "To use RandomizedSearchCV we first need to make our Keras model compatible with sklearn library and we will use keras wrapper for scikitlearn: KerasClassifier.\n"
      ]
    },
    {
      "cell_type": "code",
      "metadata": {
        "id": "gczEo5DvdW3a",
        "colab_type": "code",
        "colab": {}
      },
      "source": [
        "model = KerasClassifier(build_fn=build_model,epochs=4,batch_size=16)"
      ],
      "execution_count": 0,
      "outputs": []
    },
    {
      "cell_type": "markdown",
      "metadata": {
        "id": "6kkR9JcYHzUE",
        "colab_type": "text"
      },
      "source": [
        "Before fitting our RandomizedSearch object we set the random seed with the numpy.random.seed(). Setting the seed to the random number generator will make our model weights initialization the same for each iteration making our search more meaningful. If our hyper parameters include number of layers or number of nodes in a layer however, this will be of little help because we will be comparing entirely different models."
      ]
    },
    {
      "cell_type": "code",
      "metadata": {
        "id": "xPa6IPwdIOe1",
        "colab_type": "code",
        "colab": {}
      },
      "source": [
        "np.random.seed(42)"
      ],
      "execution_count": 0,
      "outputs": []
    },
    {
      "cell_type": "markdown",
      "metadata": {
        "id": "1746wQvPIbc7",
        "colab_type": "text"
      },
      "source": [
        "###Use RandomizedSearchCV to find best combination of hyper parameters\n",
        "Once we have created the KerasClassifier, we the create the RandomizedSearchCV object and use the .fit() method to start searching for the best model. RandomizedSearchCV allows us to explicitly control the number of combinations to try using the parameter n_iter.\n"
      ]
    },
    {
      "cell_type": "code",
      "metadata": {
        "id": "GOneG6X9kQCS",
        "colab_type": "code",
        "colab": {}
      },
      "source": [
        "rscv = RandomizedSearchCV(model,param_distributions=params,cv=3,n_iter=10)\n",
        "rscv_results = rscv.fit(X_trn,y_trn)"
      ],
      "execution_count": 0,
      "outputs": []
    },
    {
      "cell_type": "markdown",
      "metadata": {
        "id": "hTE5XC0FInoS",
        "colab_type": "text"
      },
      "source": [
        "Here are the results of our search:"
      ]
    },
    {
      "cell_type": "code",
      "metadata": {
        "id": "WymUazLrk8L8",
        "colab_type": "code",
        "outputId": "eb3dd1f0-b2e5-4779-f4ce-ad30fb405a71",
        "colab": {
          "base_uri": "https://localhost:8080/",
          "height": 35
        }
      },
      "source": [
        "print('Best score is: {} using {}'.format(rscv_results.best_score_,rscv_results.best_params_))"
      ],
      "execution_count": 0,
      "outputs": [
        {
          "output_type": "stream",
          "text": [
            "Best score is: 0.9578499992688497 using {'var_optimizer': 'adam', 'var_activation': 'tanh', 'batch_size': 32}\n"
          ],
          "name": "stdout"
        }
      ]
    },
    {
      "cell_type": "markdown",
      "metadata": {
        "id": "S0zDjyL9IzIE",
        "colab_type": "text"
      },
      "source": [
        "###Conclusion\n",
        "Hyper parameter tuning can be used to fine tune a selected model or to search for a model best suited for the task. It can also help evaluate how fast the model is learning.\n",
        "The approach above can be expanded further to include a more exhaustive search using GridSearchCV object from scikit-learn library, or by adding parameters for the structure of our model such as number of layers. Callbacks can be added to prevent overfitting tested models."
      ]
    }
  ]
}